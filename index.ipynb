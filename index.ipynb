{
  "cells": [
    {
      "cell_type": "raw",
      "metadata": {},
      "source": [
        "---\n",
        "title: \"MeteoMTP\"\n",
        "---"
      ],
      "id": "8c2c97cc"
    },
    {
      "cell_type": "code",
      "metadata": {},
      "source": [
        "#| echo: false\n",
        "#| warning: false\n",
        "import plotly.express as px\n",
        "import pandas as pd\n",
        "import numpy as np\n",
        "import pooch\n",
        "import zipfile\n",
        "#| echo: false\n",
        "import datetime\n",
        "from dateutil.relativedelta import relativedelta\n",
        "\n",
        "# Source: #\n",
        "\n",
        "current_time = datetime.datetime.now()\n",
        "last_date = current_time - relativedelta(months=2)\n",
        "fname_meteo = pooch.retrieve(f\"https://api.open-meteo.com/v1/forecast?latitude=43.6109&longitude=3.8763&hourly=wind_speed_10m&daily=weather_code,temperature_2m_max,temperature_2m_min,sunrise,sunset,precipitation_sum,wind_direction_10m_dominant&timezone=Europe%2FBerlin\", known_hash=None)\n",
        "print(fname_meteo)\n"
      ],
      "id": "5e08465c",
      "execution_count": null,
      "outputs": []
    },
    {
      "cell_type": "code",
      "metadata": {},
      "source": [
        "import json\n",
        "# Opening JSON file\n",
        "f = open(fname_meteo)\n",
        "# returns JSON object as \n",
        "# a dictionary\n",
        "data = json.load(f)\n",
        "# Iterating through the json\n",
        "# list\n",
        "json_string = json.dumps(data)  # Convert Python dictionary to a JSON string\n",
        "print(json_string)\n",
        "print(data[\"hourly\"][\"wind_speed_10m\"])\n",
        "t = []\n",
        "t2=[]\n",
        "day1=[]\n",
        "tabday=[]\n",
        "for time, speed in zip(data[\"hourly\"][\"time\"], data[\"hourly\"][\"wind_speed_10m\"]):\n",
        "    day = time.split(\"T\")[0]  # Extraire la partie \"jour\" de la date et de l'heure\n",
        "    hour = time.split(\"T\")[1]\n",
        "    t.append(speed)\n",
        "    t2.append(hour)\n",
        "    if hour == '23:00':\n",
        "        day1.append(np.mean(t))\n",
        "        tabday.append(day)\n",
        "        t=[]  \n",
        "\n",
        "nameday=[]\n",
        "for i in range (7):\n",
        "# Convertir la chaîne de date en un objet datetime\n",
        "    date_obj = datetime.strptime(tabday[i], '%Y-%m-%d')\n",
        "\n",
        "# Obtenir le jour de la semaine (en anglais)\n",
        "    jour_semaine = date_obj.strftime(\"%A\")\n",
        "    nameday.append(jour_semaine)\n",
        "    \n",
        "print(nameday)\n",
        "print(t2) \n",
        "print(day1)\n",
        "print(tabday)\n",
        "print(data[\"daily\"][\"weather_code\"])\n",
        "print(data[\"daily\"][\"temperature_2m_max\"])\n",
        "print(data[\"daily\"][\"temperature_2m_min\"])\n",
        "print(data[\"daily\"][\"sunrise\"])\n",
        "print(data[\"daily\"][\"sunset\"])\n",
        "print(data[\"daily\"][\"precipitation_sum\"])\n",
        "print(data[\"daily\"][\"wind_direction_10m_dominant\"])\n",
        "# Closing file\n",
        "f.close()"
      ],
      "id": "50524bc0",
      "execution_count": null,
      "outputs": []
    },
    {
      "cell_type": "markdown",
      "metadata": {},
      "source": [
        ":::: {.columns}\n",
        "::: {.column width=\"10%\"}\n",
        "**```{python}nameday[1]```**\n",
        "**```{python}nameday[1]```**\n",
        "::: {.column width=\"10%\"}\n",
        "::: {.column width=\"1,66%\"}\n",
        "::: {.column width=\"10%\"}\n",
        "::: {.column width=\"1,66%\"}\n",
        "::: {.column width=\"10%\"}\n",
        "::: {.column width=\"1,66%\"}\n",
        "::: {.column width=\"10%\"}\n",
        "::: {.column width=\"1,66%\"}\n",
        "::: {.column width=\"10%\"}\n",
        "::: {.column width=\"1,66%\"}\n",
        "::: {.column width=\"10%\"}\n",
        "::: {.column width=\"1,66%\"}\n",
        "::: {.column width=\"10%\"}\n",
        "::: {.column width=\"10%\"}\n"
      ],
      "id": "6218574a"
    },
    {
      "cell_type": "code",
      "metadata": {},
      "source": [
        "print(f\"Computation was performed at : {current_time} (GMT)\")"
      ],
      "id": "ae1dc808",
      "execution_count": null,
      "outputs": []
    },
    {
      "cell_type": "markdown",
      "metadata": {},
      "source": [
        "Sources are:"
      ],
      "id": "47c9fa3e"
    }
  ],
  "metadata": {
    "kernelspec": {
      "name": "python3",
      "language": "python",
      "display_name": "Python 3 (ipykernel)"
    }
  },
  "nbformat": 4,
  "nbformat_minor": 5
}